{
 "cells": [
  {
   "cell_type": "markdown",
   "metadata": {},
   "source": [
    "# Final Project #\n",
    "#### CSCI 4831 - Sabermetrics ####\n",
    "#### Instructor: Rhonda Hoenigman ####\n",
    "#### Name: Hussain Quadri ####"
   ]
  },
  {
   "cell_type": "code",
   "execution_count": 1,
   "metadata": {},
   "outputs": [],
   "source": [
    "#Import Statements\n",
    "import numpy as np\n",
    "import pandas as pd\n",
    "import matplotlib.pyplot as plt\n",
    "from pybaseball import pitching_stats_range, pitching_stats_bref\n",
    "from pybaseball import statcast\n",
    "%matplotlib inline\n"
   ]
  },
  {
   "cell_type": "markdown",
   "metadata": {},
   "source": [
    "## Data & Statistics"
   ]
  },
  {
   "cell_type": "code",
   "execution_count": null,
   "metadata": {},
   "outputs": [],
   "source": [
    "# Data grabbing\n",
    "# data = statcast('2017-01-01', '2018-12-31')\n",
    "pitchers_2017 = pd.read_csv(\"Statcast_Pitching_Data_2017.csv\", low_memory=False)\n",
    "pitchers_2018 = pd.read_csv(\"Statcast_Pitching_Data_2018.csv\", low_memory=False)\n",
    "pitchers = pd.concat([pitchers_2017, pitchers_2018])"
   ]
  },
  {
   "cell_type": "code",
   "execution_count": null,
   "metadata": {},
   "outputs": [],
   "source": [
    "pitchers.head(5)"
   ]
  },
  {
   "cell_type": "code",
   "execution_count": null,
   "metadata": {},
   "outputs": [],
   "source": [
    "#Choosing variables\n",
    "\n",
    "d = pitchers.copy()\n",
    "fig, ax1 = plt.subplots()\n",
    "ax1.set_xlabel(\"Launch Angle\")\n",
    "ax1.set_ylabel(\"Launch Speed\")\n",
    "ax1.set_title(\"Relation of Launch Angle vs Launch Speed\")\n",
    "ax1.scatter(d.launch_angle, d.launch_speed, s=2)\n"
   ]
  },
  {
   "cell_type": "markdown",
   "metadata": {},
   "source": [
    "It is interesting to see here how fast a ball is thrown depending on the angle it is thrown at, the sweet spot being anywhere from 0-50 degrees, suggesting fast straight/curve balls. This makes me think that these variables have an importance in pitching quality."
   ]
  },
  {
   "cell_type": "code",
   "execution_count": null,
   "metadata": {},
   "outputs": [],
   "source": [
    "# Filter data for just bb_type, v(x,y,z)0/a(x,y,z) effective_speed, release_spin, launch_speed, and launch_speed_angle\n",
    "\n",
    "filtered_data = pitchers[['player_name',\n",
    "                 'pitcher',\n",
    "                 'bb_type',\n",
    "                 'vx0', 'vy0', 'vz0',\n",
    "                 'ax', 'ay', 'az',\n",
    "                 'effective_speed',\n",
    "                 'release_spin_rate',\n",
    "                 'launch_speed',\n",
    "                 'launch_speed_angle', 'woba_value']].groupby('player_name', as_index = False).mean()\n",
    "filtered_data.head(10)"
   ]
  },
  {
   "cell_type": "code",
   "execution_count": null,
   "metadata": {},
   "outputs": [],
   "source": [
    "#Finding variance in variables to figure out weighting system\n",
    "\n",
    "filtered_data.var()\n",
    "\n"
   ]
  },
  {
   "cell_type": "markdown",
   "metadata": {},
   "source": [
    "In this, we can see the most variance is in the release_spin_rate, and the least in launch_speed_angle\n",
    "Weighting will be done on a scale of 1-10, with 1 going to the variable with the highest variance, and 10 going to the variable with the lowest variance"
   ]
  },
  {
   "cell_type": "code",
   "execution_count": null,
   "metadata": {},
   "outputs": [],
   "source": [
    "# Weighted Statistic = PitchingQuality = ((10*launch_speed_angle + 9*vz0 + 8*ay + 7*effective_speed + 6*az\n",
    "#                                            + 5*vy0 + 4*launch_speed + 3*vx0 + 2*ax + release_spin_rate)/(55*100))\n",
    "\n",
    "filtered_data['Pitching_Quality'] = ((10*filtered_data['launch_speed_angle'] + 9*filtered_data['vz0'] + 8*filtered_data['ay'] \n",
    "                                      + 7*filtered_data['effective_speed'] + 6*filtered_data['az'] + 5*filtered_data['vy0'] \n",
    "                                      + 4*filtered_data['launch_speed'] + 3*filtered_data['vx0'] + 2*filtered_data['ax'] \n",
    "                                      + filtered_data['release_spin_rate'])/(27.5*100))\n",
    "\n",
    "Updated_Data = filtered_data.sort_values(by=['Pitching_Quality'], ascending=False)\n",
    "Updated_Data.head()"
   ]
  },
  {
   "cell_type": "code",
   "execution_count": null,
   "metadata": {},
   "outputs": [],
   "source": [
    "Updated_Data.head(20).plot.bar(x='player_name', y='Pitching_Quality', figsize=(10, 10))"
   ]
  },
  {
   "cell_type": "markdown",
   "metadata": {},
   "source": [
    "The plot above shows a sample of the top 20 players according to this statistic. Now let's compare it to the top 20 pitchers using wOBA as an estimate."
   ]
  },
  {
   "cell_type": "code",
   "execution_count": null,
   "metadata": {},
   "outputs": [],
   "source": [
    "filtered_data.sort_values(by=['woba_value'], ascending=False).head(20).plot.bar(x='player_name', y='woba_value', figsize=(10, 10))"
   ]
  },
  {
   "cell_type": "markdown",
   "metadata": {},
   "source": [
    "The wOBA statistic shows the offensive contributions of a player on a plate appearance, but I would like to see how offensiveness relates to the pitching quality."
   ]
  },
  {
   "cell_type": "code",
   "execution_count": null,
   "metadata": {},
   "outputs": [],
   "source": [
    "filtered_data.sort_values(by=['woba_value'], ascending=False).head(20).plot.bar(x='player_name', y=['woba_value', 'Pitching_Quality'], figsize=(10, 10), stacked=True)"
   ]
  },
  {
   "cell_type": "markdown",
   "metadata": {},
   "source": [
    "Generally, it seems as if wOBA has a slight correlation to pitching quality, i.e the figure above is showing that a generally high wOBA score most likely relates to a high pitch quality."
   ]
  },
  {
   "cell_type": "code",
   "execution_count": null,
   "metadata": {},
   "outputs": [],
   "source": []
  }
 ],
 "metadata": {
  "kernelspec": {
   "display_name": "Python 3",
   "language": "python",
   "name": "python3"
  },
  "language_info": {
   "codemirror_mode": {
    "name": "ipython",
    "version": 3
   },
   "file_extension": ".py",
   "mimetype": "text/x-python",
   "name": "python",
   "nbconvert_exporter": "python",
   "pygments_lexer": "ipython3",
   "version": "3.6.7"
  }
 },
 "nbformat": 4,
 "nbformat_minor": 2
}
